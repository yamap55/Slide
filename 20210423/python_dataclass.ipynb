{
 "metadata": {
  "language_info": {
   "codemirror_mode": {
    "name": "ipython",
    "version": 3
   },
   "file_extension": ".py",
   "mimetype": "text/x-python",
   "name": "python",
   "nbconvert_exporter": "python",
   "pygments_lexer": "ipython3",
   "version": "3.7.5"
  },
  "orig_nbformat": 2,
  "kernelspec": {
   "name": "python3",
   "display_name": "Python 3",
   "language": "python"
  }
 },
 "nbformat": 4,
 "nbformat_minor": 2,
 "cells": [
  {
   "source": [
    "# Pythonのdataclassについて\n"
   ],
   "cell_type": "markdown",
   "metadata": {}
  },
  {
   "source": [
    "## アジェンダ\n",
    "- dataclassとは\n",
    "  - 基本機能\n",
    "- 色々ハマった事\n",
    "- 参考\n",
    "  - https://docs.python.org/ja/3/library/dataclasses.html"
   ],
   "cell_type": "markdown",
   "metadata": {}
  },
  {
   "source": [
    "## dataclassとは\n",
    "- Python3.7で導入\n",
    "- その名の通り、データを格納するためのクラス\n",
    "- よくある `Dict[str, Any]` でデータを持ちまわす時に使える\n",
    "\n",
    "### 良い所\n",
    "- `@dataclass` と書くのでデータ格納用であることが一目瞭然\n",
    "- データ定義のみで欲しい機能が自動で定義される\n",
    "- dictからの相互変換が簡単\n",
    "- イミュータブルの設定が簡単"
   ],
   "cell_type": "markdown",
   "metadata": {}
  },
  {
   "cell_type": "code",
   "execution_count": 1,
   "metadata": {},
   "outputs": [],
   "source": [
    "# dataclassesパッケージにいます\n",
    "from dataclasses import dataclass"
   ]
  },
  {
   "cell_type": "code",
   "execution_count": 2,
   "metadata": {},
   "outputs": [],
   "source": [
    "\n",
    "# 基本的な定義の方法\n",
    "@dataclass\n",
    "class A:\n",
    "    b: str\n",
    "    c: str\n"
   ]
  },
  {
   "cell_type": "code",
   "execution_count": 3,
   "metadata": {},
   "outputs": [],
   "source": [
    "\n",
    "# 名前付き引数でも、そうでなくても利用可能（名前付きを使った方が良いとは思う）\n",
    "instance1 = A(b='bb', c='cc')\n",
    "assert instance1.b == 'bb'\n",
    "assert instance1.c == 'cc'\n",
    "\n",
    "instance2 = A('bb', 'cc')\n",
    "assert instance2.b == 'bb'\n",
    "assert instance2.c == 'cc'\n"
   ]
  },
  {
   "cell_type": "code",
   "execution_count": 4,
   "metadata": {},
   "outputs": [
    {
     "output_type": "error",
     "ename": "AssertionError",
     "evalue": "",
     "traceback": [
      "\u001b[0;31m---------------------------------------------------------------------------\u001b[0m",
      "\u001b[0;31mAssertionError\u001b[0m                            Traceback (most recent call last)",
      "\u001b[0;32m<ipython-input-4-6a4bbb055d24>\u001b[0m in \u001b[0;36m<module>\u001b[0;34m\u001b[0m\n\u001b[1;32m      3\u001b[0m \u001b[0;34m\u001b[0m\u001b[0m\n\u001b[1;32m      4\u001b[0m \u001b[0minstance3\u001b[0m \u001b[0;34m=\u001b[0m \u001b[0mA\u001b[0m\u001b[0;34m(\u001b[0m\u001b[0;34m'xx'\u001b[0m\u001b[0;34m,\u001b[0m \u001b[0;34m'yy'\u001b[0m\u001b[0;34m)\u001b[0m\u001b[0;34m\u001b[0m\u001b[0;34m\u001b[0m\u001b[0m\n\u001b[0;32m----> 5\u001b[0;31m \u001b[0;32massert\u001b[0m \u001b[0minstance1\u001b[0m \u001b[0;34m==\u001b[0m \u001b[0minstance3\u001b[0m\u001b[0;34m\u001b[0m\u001b[0;34m\u001b[0m\u001b[0m\n\u001b[0m",
      "\u001b[0;31mAssertionError\u001b[0m: "
     ]
    }
   ],
   "source": [
    "# 比較も可能\n",
    "assert instance1 == instance2\n",
    "\n",
    "instance3 = A('xx', 'yy')\n",
    "assert instance1 == instance3"
   ]
  },
  {
   "cell_type": "code",
   "execution_count": 5,
   "metadata": {},
   "outputs": [],
   "source": [
    "# dictからの相互変換も可能\n",
    "d = {'b': 'bb', 'c': 'cc'}\n",
    "instance4 = A(**d)\n",
    "assert instance4 == A(b='bb', c='cc')\n",
    "\n",
    "from dataclasses import asdict\n",
    "assert asdict(instance4) == {'b': 'bb', 'c': 'cc'}\n"
   ]
  },
  {
   "cell_type": "code",
   "execution_count": 6,
   "metadata": {},
   "outputs": [
    {
     "output_type": "error",
     "ename": "FrozenInstanceError",
     "evalue": "cannot assign to field 'b'",
     "traceback": [
      "\u001b[0;31m---------------------------------------------------------------------------\u001b[0m",
      "\u001b[0;31mFrozenInstanceError\u001b[0m                       Traceback (most recent call last)",
      "\u001b[0;32m<ipython-input-6-9ac17cfbcd0a>\u001b[0m in \u001b[0;36m<module>\u001b[0;34m\u001b[0m\n\u001b[1;32m      7\u001b[0m     \u001b[0mc\u001b[0m\u001b[0;34m:\u001b[0m \u001b[0mstr\u001b[0m\u001b[0;34m\u001b[0m\u001b[0;34m\u001b[0m\u001b[0m\n\u001b[1;32m      8\u001b[0m \u001b[0minstance5\u001b[0m \u001b[0;34m=\u001b[0m \u001b[0mAA\u001b[0m\u001b[0;34m(\u001b[0m\u001b[0;34m'b'\u001b[0m\u001b[0;34m,\u001b[0m \u001b[0;34m'c'\u001b[0m\u001b[0;34m)\u001b[0m\u001b[0;34m\u001b[0m\u001b[0;34m\u001b[0m\u001b[0m\n\u001b[0;32m----> 9\u001b[0;31m \u001b[0minstance5\u001b[0m\u001b[0;34m.\u001b[0m\u001b[0mb\u001b[0m \u001b[0;34m=\u001b[0m \u001b[0;34m'zz'\u001b[0m\u001b[0;34m\u001b[0m\u001b[0;34m\u001b[0m\u001b[0m\n\u001b[0m",
      "\u001b[0;32m<string>\u001b[0m in \u001b[0;36m__setattr__\u001b[0;34m(self, name, value)\u001b[0m\n",
      "\u001b[0;31mFrozenInstanceError\u001b[0m: cannot assign to field 'b'"
     ]
    }
   ],
   "source": [
    "# イミュータブル\n",
    "# イミュータブルにする事で、中身が変更されないという事が保証されるので心理的安全性が高い\n",
    "# dataclassを使用する場合、基本イミュータブルのではないかと思っている（私見です）\n",
    "@dataclass(frozen=True)\n",
    "class AA:\n",
    "    b: str\n",
    "    c: str\n",
    "instance5 = AA('b', 'c')\n",
    "instance5.b = 'zz'"
   ]
  },
  {
   "cell_type": "code",
   "execution_count": 7,
   "metadata": {},
   "outputs": [
    {
     "output_type": "execute_result",
     "data": {
      "text/plain": [
       "X(b='a', c='b', d='c')"
      ]
     },
     "metadata": {},
     "execution_count": 7
    }
   ],
   "source": [
    "# 継承も可能\n",
    "# （詳細は失念したが、実際には断念したので落とし穴があったと思う）\n",
    "@dataclass(frozen=True)\n",
    "class AA:\n",
    "    b: str\n",
    "    c: str\n",
    "\n",
    "@dataclass(frozen=True)\n",
    "class X(AA):\n",
    "    d: str\n",
    "\n",
    "X('a', 'b', 'c')\n"
   ]
  },
  {
   "source": [
    "## ハマった事"
   ],
   "cell_type": "markdown",
   "metadata": {}
  },
  {
   "cell_type": "code",
   "execution_count": 8,
   "metadata": {},
   "outputs": [],
   "source": [
    "# 初期化時に受け取った値で別の値を作りたい\n",
    "@dataclass\n",
    "class AAA:\n",
    "    b: str\n",
    "    c: str\n",
    "\n",
    "    def __post_init__(self):\n",
    "        self.d = f'{self.b}_{self.c}'\n",
    "instance6 = AAA('b', 'c')\n",
    "assert instance6.d == 'b_c'"
   ]
  },
  {
   "cell_type": "code",
   "execution_count": 9,
   "metadata": {},
   "outputs": [
    {
     "output_type": "error",
     "ename": "FrozenInstanceError",
     "evalue": "cannot assign to field 'd'",
     "traceback": [
      "\u001b[0;31m---------------------------------------------------------------------------\u001b[0m",
      "\u001b[0;31mFrozenInstanceError\u001b[0m                       Traceback (most recent call last)",
      "\u001b[0;32m<ipython-input-9-4a266e835820>\u001b[0m in \u001b[0;36m<module>\u001b[0;34m\u001b[0m\n\u001b[1;32m      8\u001b[0m     \u001b[0;32mdef\u001b[0m \u001b[0m__post_init__\u001b[0m\u001b[0;34m(\u001b[0m\u001b[0mself\u001b[0m\u001b[0;34m)\u001b[0m\u001b[0;34m:\u001b[0m\u001b[0;34m\u001b[0m\u001b[0;34m\u001b[0m\u001b[0m\n\u001b[1;32m      9\u001b[0m         \u001b[0mself\u001b[0m\u001b[0;34m.\u001b[0m\u001b[0md\u001b[0m \u001b[0;34m=\u001b[0m \u001b[0;34mf'{self.b}_{self.c}'\u001b[0m\u001b[0;34m\u001b[0m\u001b[0;34m\u001b[0m\u001b[0m\n\u001b[0;32m---> 10\u001b[0;31m \u001b[0mAAAA\u001b[0m\u001b[0;34m(\u001b[0m\u001b[0;34m'b'\u001b[0m\u001b[0;34m,\u001b[0m \u001b[0;34m'c'\u001b[0m\u001b[0;34m)\u001b[0m\u001b[0;34m\u001b[0m\u001b[0;34m\u001b[0m\u001b[0m\n\u001b[0m",
      "\u001b[0;32m<string>\u001b[0m in \u001b[0;36m__init__\u001b[0;34m(self, b, c)\u001b[0m\n",
      "\u001b[0;32m<ipython-input-9-4a266e835820>\u001b[0m in \u001b[0;36m__post_init__\u001b[0;34m(self)\u001b[0m\n\u001b[1;32m      7\u001b[0m \u001b[0;34m\u001b[0m\u001b[0m\n\u001b[1;32m      8\u001b[0m     \u001b[0;32mdef\u001b[0m \u001b[0m__post_init__\u001b[0m\u001b[0;34m(\u001b[0m\u001b[0mself\u001b[0m\u001b[0;34m)\u001b[0m\u001b[0;34m:\u001b[0m\u001b[0;34m\u001b[0m\u001b[0;34m\u001b[0m\u001b[0m\n\u001b[0;32m----> 9\u001b[0;31m         \u001b[0mself\u001b[0m\u001b[0;34m.\u001b[0m\u001b[0md\u001b[0m \u001b[0;34m=\u001b[0m \u001b[0;34mf'{self.b}_{self.c}'\u001b[0m\u001b[0;34m\u001b[0m\u001b[0;34m\u001b[0m\u001b[0m\n\u001b[0m\u001b[1;32m     10\u001b[0m \u001b[0mAAAA\u001b[0m\u001b[0;34m(\u001b[0m\u001b[0;34m'b'\u001b[0m\u001b[0;34m,\u001b[0m \u001b[0;34m'c'\u001b[0m\u001b[0;34m)\u001b[0m\u001b[0;34m\u001b[0m\u001b[0;34m\u001b[0m\u001b[0m\n",
      "\u001b[0;32m<string>\u001b[0m in \u001b[0;36m__setattr__\u001b[0;34m(self, name, value)\u001b[0m\n",
      "\u001b[0;31mFrozenInstanceError\u001b[0m: cannot assign to field 'd'"
     ]
    }
   ],
   "source": [
    "# frozenでやりたい\n",
    "# エラーになる（__post_init__でも既にfrozenが有効になっている）\n",
    "@dataclass(frozen=True)\n",
    "class AAAA:\n",
    "    b: str\n",
    "    c: str\n",
    "\n",
    "    def __post_init__(self):\n",
    "        self.d = f'{self.b}_{self.c}'\n",
    "AAAA('b', 'c')\n"
   ]
  },
  {
   "cell_type": "code",
   "execution_count": 10,
   "metadata": {},
   "outputs": [],
   "source": [
    "# frozenでやりたい\n",
    "# object.__setattr__を使用する\n",
    "# https://docs.python.org/ja/3/library/dataclasses.html#frozen-instances\n",
    "@dataclass(frozen=True)\n",
    "class AAAAA:\n",
    "    b: str\n",
    "    c: str\n",
    "\n",
    "    def __post_init__(self):\n",
    "        object.__setattr__(self, 'd', f'{self.b}_{self.c}')\n",
    "instance7 = AAAAA('b', 'c')\n",
    "assert instance7.d == 'b_c'\n"
   ]
  }
 ]
}